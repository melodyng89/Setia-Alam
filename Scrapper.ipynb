{
  "nbformat": 4,
  "nbformat_minor": 0,
  "metadata": {
    "colab": {
      "name": "Scrapper.ipynb",
      "provenance": [],
      "authorship_tag": "ABX9TyPHsQtRZ19gH4iyQKXL0mJ+",
      "include_colab_link": true
    },
    "kernelspec": {
      "name": "python3",
      "display_name": "Python 3"
    },
    "accelerator": "TPU"
  },
  "cells": [
    {
      "cell_type": "markdown",
      "metadata": {
        "id": "view-in-github",
        "colab_type": "text"
      },
      "source": [
        "<a href=\"https://colab.research.google.com/github/melodyng89/Setia-Alam/blob/master/Scrapper.ipynb\" target=\"_parent\"><img src=\"https://colab.research.google.com/assets/colab-badge.svg\" alt=\"Open In Colab\"/></a>"
      ]
    },
    {
      "cell_type": "markdown",
      "metadata": {
        "id": "8wmjBGvgzY4B",
        "colab_type": "text"
      },
      "source": [
        "#Import libraries"
      ]
    },
    {
      "cell_type": "code",
      "metadata": {
        "id": "_Xc8zyYkvSBz",
        "colab_type": "code",
        "colab": {}
      },
      "source": [
        "import requests\n",
        "import urllib.request\n",
        "import time\n",
        "from bs4 import BeautifulSoup\n",
        "import pandas as pd"
      ],
      "execution_count": 0,
      "outputs": []
    },
    {
      "cell_type": "markdown",
      "metadata": {
        "id": "BBVZ5iCf0Njy",
        "colab_type": "text"
      },
      "source": [
        "#Select target page"
      ]
    },
    {
      "cell_type": "code",
      "metadata": {
        "id": "ARtAYENizcWd",
        "colab_type": "code",
        "colab": {
          "base_uri": "https://localhost:8080/",
          "height": 34
        },
        "outputId": "7546a767-ebc3-48ad-bfd8-b45a73d260a2"
      },
      "source": [
        "url = \"https://forum.lowyat.net/topic/3745154/all\"\n",
        "response = requests.get(url)\n",
        "response"
      ],
      "execution_count": 8,
      "outputs": [
        {
          "output_type": "execute_result",
          "data": {
            "text/plain": [
              "<Response [200]>"
            ]
          },
          "metadata": {
            "tags": []
          },
          "execution_count": 8
        }
      ]
    },
    {
      "cell_type": "markdown",
      "metadata": {
        "id": "ntSIlIQd2wW3",
        "colab_type": "text"
      },
      "source": [
        "#Scrape comments"
      ]
    },
    {
      "cell_type": "code",
      "metadata": {
        "id": "NFI4vqOC2xyY",
        "colab_type": "code",
        "colab": {
          "base_uri": "https://localhost:8080/",
          "height": 445
        },
        "outputId": "958ff739-a79e-4c3f-81df-4ef429d746a6"
      },
      "source": [
        "soup1 = BeautifulSoup(response.text, \"html.parser\")\n",
        "result1 = soup1.findAll(\"div\", {'class':'postcolor post_text'})\n",
        "result1_list = list(result1)\n",
        "\n",
        "list_result1 = []\n",
        "\n",
        "for i in range(len(result1_list)):\n",
        "  list_result1.append(result1[i].get_text())\n",
        "\n",
        "list_result1"
      ],
      "execution_count": 17,
      "outputs": [
        {
          "output_type": "execute_result",
          "data": {
            "text/plain": [
              "['Panda very curious, if our money is protected by PIDMthen who protected PIDM?Panda cannot brain, PIDM really that rich to protect all Malaysian wealth?   ',\n",
              " 'up to 250k only ',\n",
              " 'QUOTE(chokia @ Oct 15 2015, 06:11 PM)up to 250k only250k still a lot of money...  where does the money come from? ',\n",
              " 'Yes.  Protected.  It is like a form of insurance.  So, they should have underwriters who would cover them. ',\n",
              " 'Say only, later bankrap, sorry lah. ',\n",
              " 'QUOTE(Panda @ Oct 15 2015, 06:12 PM)250k still a lot of money...  where does the money come from?donation ',\n",
              " \"QUOTE(chokia @ Oct 15 2015, 06:13 PM)donationdonation only 26milliondoesn't make sense, thanks for replying anyway... \",\n",
              " 'QUOTE(Panda @ Oct 15 2015, 06:10 PM)Panda very curious, if our money is protected by PIDMthen who protected PIDM?Panda cannot brain, PIDM really that rich to protect all Malaysian wealth? \\xa0 What do you know about PIDM and what money the protect? ',\n",
              " 'PIDM under Perkasa...anything happen u can refer to Perkasa ',\n",
              " 'QUOTE(grinders @ Oct 15 2015, 06:20 PM)What do you know about PIDM and what money the protect?QUOTE(lorrydriverrocks @ Oct 15 2015, 06:25 PM)PIDM under Perkasa...anything happen u can refer to PerkasaPIDM official website for your informationhttp://www.pidm.gov.my ',\n",
              " 'QUOTE(Panda @ Oct 15 2015, 06:26 PM)PIDM official website for your informationhttp://www.pidm.gov.myThank you for the website. What do you know about pidm ? ',\n",
              " 'Bank Negara ',\n",
              " 'QUOTE(grinders @ Oct 15 2015, 06:27 PM)Thank you for the website. What do you know about pidm ?All the info are in the website...jangan persoal... ',\n",
              " 'QUOTE(Panda @ Oct 15 2015, 06:29 PM)All the info are in the website...jangan persoal...So no need to discuss and share with you the information then.This post has been edited by grinders: Oct 15 2015, 06:30 PM ',\n",
              " \"QUOTE(grinders @ Oct 15 2015, 06:30 PM)So no need to discuss and share with you the information then.Pretty much every CASA/Deposits are protected by PIDM now. Provided that it's a Wadiah (if Islamic) or even conventional depts, I work in CC dept so I don't really know the banking terms or their stuffs much.  But basically, it's to safe guard your deposits, in case there's a bank run (in other words the bank closes its doors), PIDM will cover your deposits up to RM250K.CC Ashwell John \",\n",
              " \"QUOTE(patienceGNR @ Oct 15 2015, 06:38 PM)Pretty much every CASA/Deposits are protected by PIDM now. Provided that it's a Wadiah (if Islamic) or even conventional depts, I work in CC dept so I don't really know the banking terms or their stuffs much.  But basically, it's to safe guard your deposits, in case there's a bank run (in other words the bank closes its doors), PIDM will cover your deposits up to RM250K.CC Ashwell JohnA bank closing down is not a bank run, PIDM's scheme is to prevent a bank run which might actually lead to a bank closing down. \",\n",
              " 'Use your epf ',\n",
              " \"I keep thinking it's just a marketing tool to deter bank runs. When the worst case scenario does happen, I don't think insuring your deposit would make any difference. \",\n",
              " 'QUOTE(patienceGNR @ Oct 15 2015, 06:38 PM)Pretty much every CASA/Deposits are protected by PIDM now. Provided that it\\'s a Wadiah (if Islamic) or even conventional depts, I work in CC dept so I don\\'t really know the banking terms or their stuffs much.  But basically, it\\'s to safe guard your deposits, in case there\\'s a bank run (in other words the bank closes its doors), PIDM will cover your deposits up to RM250K.CC Ashwell John i know about this is just sometime we need to test the PRC mentality in one of Malaysian culture.PRC mentality mean : They want to know knowledge from non PRC especially the Malay or other race like the Indian but they dont want to share the knowledge to the Malay or non PRC. If they share they berlakon  \"Zero\" talk with no information in it.Zero talk mean : Talk talk without any information in it. Mostly a macai low class  Malay will just angguk and no ask question to this zero talk tactic Malaysian can test this to the \"PRC lookalike\"and start asking them a question . You will be surprise the zero info in the answer given. Dont test it one time test it many times and surprise test them asking the question. Be specific of the test and target the PRC lookalike only and observe them for 1 year or more.The Malay can learn to talk zero to the PRC lookalike and never  ever sharing good information and knowledge to them.Let them taste they own medicine .This post has been edited by grinders: Oct 15 2015, 07:21 PM ',\n",
              " 'If everyone withdraw money from bank, what will happen? ',\n",
              " 'QUOTE(everest @ Oct 15 2015, 07:12 PM)If everyone withdraw money from bank, what will happen?those people who is on loan with that bank have to pay immediately   ',\n",
              " \"QUOTE(Panda @ Oct 15 2015, 06:16 PM)donation only 26milliondoesn't make sense, thanks for replying anyway...2.6 billion.............................. \",\n",
              " 'QUOTE(grinders @ Oct 15 2015, 07:09 PM) i know about this is just sometime we need to test the PRC mentality in one of Malaysian culture.PRC mentality mean : They want to know knowledge from non PRC especially the Malay or other race like the Indian but they dont want to share the knowledge to the Malay or non PRC. If they share they berlakon\\xa0 \"Zero\" talk with no information in it.Zero talk mean : Talk talk without any information in it. Mostly a macai low class\\xa0 Malay will just angguk and no ask question to this zero talk tactic Malaysian can test this to the \"PRC lookalike\"and start asking them a question . You will be surprise the zero info in the answer given. Dont test it one time test it many times and surprise test them asking the question. Be specific of the test and target the PRC lookalike only and observe them for 1 year or more.The Malay can learn to talk zero to the PRC lookalike and never\\xa0 ever sharing good information and knowledge to them.Let them taste they own medicine .When it comes to money matters I don\\'t joke about it one. I mean, especially when it\\'s a credit or financing related. I purposely use my bank\\'s CC just to understand what customers feel. I now do. They always complain statements not received which, well, true enough my latest Oct 24 statement did not come, my OCBC one did though. ',\n",
              " 'QUOTE(everest @ Oct 15 2015, 07:12 PM)If everyone withdraw money from bank, what will happen?Then its call a bank run lo..PIDM is basically an insurance - they have re-insurance layering the risk for a premiumThe risk of default is small so re-insurers will take on the risk as they are super capitalized..Munich Re, Swiss Re or Colenge Re. Only in a catastrophic loss then only re-insurance kantoi. ']"
            ]
          },
          "metadata": {
            "tags": []
          },
          "execution_count": 17
        }
      ]
    },
    {
      "cell_type": "markdown",
      "metadata": {
        "id": "DqOUFy2w7m5x",
        "colab_type": "text"
      },
      "source": [
        "#Scrape usernames"
      ]
    },
    {
      "cell_type": "code",
      "metadata": {
        "id": "l4ozqKa57oxg",
        "colab_type": "code",
        "colab": {
          "base_uri": "https://localhost:8080/",
          "height": 425
        },
        "outputId": "fdbabe83-e099-4fe6-b952-3fd995ea561c"
      },
      "source": [
        "soup2 = BeautifulSoup(response.text, \"html.parser\")\n",
        "result2 = soup2.findAll(\"span\", {'class':'normalname'})\n",
        "result2_list = list(result2)\n",
        "\n",
        "list_result2 = []\n",
        "\n",
        "for i in range(len(result2_list)):\n",
        "  list_result2.append(result2[i].get_text())\n",
        "\n",
        "list_result2"
      ],
      "execution_count": 18,
      "outputs": [
        {
          "output_type": "execute_result",
          "data": {
            "text/plain": [
              "['Panda',\n",
              " 'chokia',\n",
              " 'Panda',\n",
              " 'joe_mamak',\n",
              " 'Matrix',\n",
              " 'chokia',\n",
              " 'Panda',\n",
              " 'grinders',\n",
              " 'lorrydriverrocks',\n",
              " 'Panda',\n",
              " 'grinders',\n",
              " 'Special Agent',\n",
              " 'Panda',\n",
              " 'grinders',\n",
              " 'patienceGNR',\n",
              " 'fuzzy',\n",
              " 'ohman',\n",
              " 'neoexcaliber',\n",
              " 'grinders',\n",
              " 'everest',\n",
              " 'hihihehe',\n",
              " 'kenshin9880',\n",
              " 'patienceGNR',\n",
              " 'gladfly']"
            ]
          },
          "metadata": {
            "tags": []
          },
          "execution_count": 18
        }
      ]
    },
    {
      "cell_type": "markdown",
      "metadata": {
        "id": "wL6pkaHm9v6v",
        "colab_type": "text"
      },
      "source": [
        "#merge usernams and comments into a table"
      ]
    },
    {
      "cell_type": "code",
      "metadata": {
        "id": "PVFZyN4J9y5b",
        "colab_type": "code",
        "colab": {
          "base_uri": "https://localhost:8080/",
          "height": 204
        },
        "outputId": "a50cc61e-d359-4c59-cfdd-83e217f6c955"
      },
      "source": [
        "dataframe = list(zip(list_result2, list_result1))\n",
        "dataframe = pd.DataFrame(dataframe, columns = [\"Person\",\"Comment\"])\n",
        "dataframe.head()"
      ],
      "execution_count": 23,
      "outputs": [
        {
          "output_type": "execute_result",
          "data": {
            "text/html": [
              "<div>\n",
              "<style scoped>\n",
              "    .dataframe tbody tr th:only-of-type {\n",
              "        vertical-align: middle;\n",
              "    }\n",
              "\n",
              "    .dataframe tbody tr th {\n",
              "        vertical-align: top;\n",
              "    }\n",
              "\n",
              "    .dataframe thead th {\n",
              "        text-align: right;\n",
              "    }\n",
              "</style>\n",
              "<table border=\"1\" class=\"dataframe\">\n",
              "  <thead>\n",
              "    <tr style=\"text-align: right;\">\n",
              "      <th></th>\n",
              "      <th>Person</th>\n",
              "      <th>Comment</th>\n",
              "    </tr>\n",
              "  </thead>\n",
              "  <tbody>\n",
              "    <tr>\n",
              "      <th>0</th>\n",
              "      <td>Panda</td>\n",
              "      <td>Panda very curious, if our money is protected ...</td>\n",
              "    </tr>\n",
              "    <tr>\n",
              "      <th>1</th>\n",
              "      <td>chokia</td>\n",
              "      <td>up to 250k only</td>\n",
              "    </tr>\n",
              "    <tr>\n",
              "      <th>2</th>\n",
              "      <td>Panda</td>\n",
              "      <td>QUOTE(chokia @ Oct 15 2015, 06:11 PM)up to 250...</td>\n",
              "    </tr>\n",
              "    <tr>\n",
              "      <th>3</th>\n",
              "      <td>joe_mamak</td>\n",
              "      <td>Yes.  Protected.  It is like a form of insuran...</td>\n",
              "    </tr>\n",
              "    <tr>\n",
              "      <th>4</th>\n",
              "      <td>Matrix</td>\n",
              "      <td>Say only, later bankrap, sorry lah.</td>\n",
              "    </tr>\n",
              "  </tbody>\n",
              "</table>\n",
              "</div>"
            ],
            "text/plain": [
              "      Person                                            Comment\n",
              "0      Panda  Panda very curious, if our money is protected ...\n",
              "1     chokia                                   up to 250k only \n",
              "2      Panda  QUOTE(chokia @ Oct 15 2015, 06:11 PM)up to 250...\n",
              "3  joe_mamak  Yes.  Protected.  It is like a form of insuran...\n",
              "4     Matrix               Say only, later bankrap, sorry lah. "
            ]
          },
          "metadata": {
            "tags": []
          },
          "execution_count": 23
        }
      ]
    },
    {
      "cell_type": "markdown",
      "metadata": {
        "id": "je97QdcE_Lpw",
        "colab_type": "text"
      },
      "source": [
        "#Initialise afinn sentiment analyzer"
      ]
    },
    {
      "cell_type": "code",
      "metadata": {
        "id": "TxnfHAyF_NG_",
        "colab_type": "code",
        "colab": {
          "base_uri": "https://localhost:8080/",
          "height": 187
        },
        "outputId": "a52d2635-8351-4d22-c42e-61806940ef62"
      },
      "source": [
        "!pip install afinn\n",
        "from afinn import Afinn\n",
        "af = Afinn()"
      ],
      "execution_count": 24,
      "outputs": [
        {
          "output_type": "stream",
          "text": [
            "Collecting afinn\n",
            "\u001b[?25l  Downloading https://files.pythonhosted.org/packages/86/e5/ffbb7ee3cca21ac6d310ac01944fb163c20030b45bda25421d725d8a859a/afinn-0.1.tar.gz (52kB)\n",
            "\r\u001b[K     |██████▎                         | 10kB 17.3MB/s eta 0:00:01\r\u001b[K     |████████████▌                   | 20kB 2.2MB/s eta 0:00:01\r\u001b[K     |██████████████████▊             | 30kB 3.2MB/s eta 0:00:01\r\u001b[K     |█████████████████████████       | 40kB 4.1MB/s eta 0:00:01\r\u001b[K     |███████████████████████████████▏| 51kB 2.6MB/s eta 0:00:01\r\u001b[K     |████████████████████████████████| 61kB 2.3MB/s \n",
            "\u001b[?25hBuilding wheels for collected packages: afinn\n",
            "  Building wheel for afinn (setup.py) ... \u001b[?25l\u001b[?25hdone\n",
            "  Created wheel for afinn: filename=afinn-0.1-cp36-none-any.whl size=53452 sha256=1c8d0e738b9ea4a0fab9eaa39852a7f8f8ac8c6bf9da6168a8faeac82bad0629\n",
            "  Stored in directory: /root/.cache/pip/wheels/b5/1c/de/428301f3333ca509dcf20ff358690eb23a1388fbcbbde008b2\n",
            "Successfully built afinn\n",
            "Installing collected packages: afinn\n",
            "Successfully installed afinn-0.1\n"
          ],
          "name": "stdout"
        }
      ]
    },
    {
      "cell_type": "markdown",
      "metadata": {
        "id": "Hfxl40CYAkFO",
        "colab_type": "text"
      },
      "source": [
        "#Compute sentiment scores (polarity) and labels"
      ]
    },
    {
      "cell_type": "code",
      "metadata": {
        "id": "LGWGdiQ5AoJU",
        "colab_type": "code",
        "colab": {}
      },
      "source": [
        "sentiment_scores =[]\n",
        "\n",
        "for i in range(len(list_result1)):\n",
        " sentiment_scores.append(af.score(list_result1[i]))\n",
        "\n",
        " sentiment_category = ['positive' if score > 0\n",
        "                       else 'negative' if score < 0\n",
        "                       else 'neutral'\n",
        "                       for score in sentiment_scores]"
      ],
      "execution_count": 0,
      "outputs": []
    },
    {
      "cell_type": "code",
      "metadata": {
        "id": "2dgMZCEwBvP1",
        "colab_type": "code",
        "colab": {
          "base_uri": "https://localhost:8080/",
          "height": 425
        },
        "outputId": "bae68f36-23af-47c4-ceb8-d02c5109c3ea"
      },
      "source": [
        "sentiment_scores"
      ],
      "execution_count": 27,
      "outputs": [
        {
          "output_type": "execute_result",
          "data": {
            "text/plain": [
              "[9.0,\n",
              " 0.0,\n",
              " 0.0,\n",
              " 4.0,\n",
              " -1.0,\n",
              " 2.0,\n",
              " 2.0,\n",
              " 10.0,\n",
              " 0.0,\n",
              " 1.0,\n",
              " 0.0,\n",
              " 0.0,\n",
              " 2.0,\n",
              " 0.0,\n",
              " 3.0,\n",
              " 2.0,\n",
              " 0.0,\n",
              " -3.0,\n",
              " 10.0,\n",
              " 0.0,\n",
              " -1.0,\n",
              " 4.0,\n",
              " 10.0,\n",
              " -10.0]"
            ]
          },
          "metadata": {
            "tags": []
          },
          "execution_count": 27
        }
      ]
    },
    {
      "cell_type": "markdown",
      "metadata": {
        "id": "C4IyjCksC8t6",
        "colab_type": "text"
      },
      "source": [
        "#Sentiment statistics"
      ]
    },
    {
      "cell_type": "code",
      "metadata": {
        "id": "OckUVbFXDAy7",
        "colab_type": "code",
        "colab": {
          "base_uri": "https://localhost:8080/",
          "height": 793
        },
        "outputId": "569bce48-14fb-4192-dec5-acf5196c086f"
      },
      "source": [
        "df = pd.DataFrame([list(dataframe['Comment']), sentiment_scores, sentiment_category]).T\n",
        "df.columns = ['Comment', 'sentiment_score', 'sentiment_category'] \n",
        "df['sentiment_score'] = df.sentiment_score.astype('float')\n",
        "df_final = pd.concat([dataframe['Person'],df], axis = 1)\n",
        "df_final"
      ],
      "execution_count": 38,
      "outputs": [
        {
          "output_type": "execute_result",
          "data": {
            "text/html": [
              "<div>\n",
              "<style scoped>\n",
              "    .dataframe tbody tr th:only-of-type {\n",
              "        vertical-align: middle;\n",
              "    }\n",
              "\n",
              "    .dataframe tbody tr th {\n",
              "        vertical-align: top;\n",
              "    }\n",
              "\n",
              "    .dataframe thead th {\n",
              "        text-align: right;\n",
              "    }\n",
              "</style>\n",
              "<table border=\"1\" class=\"dataframe\">\n",
              "  <thead>\n",
              "    <tr style=\"text-align: right;\">\n",
              "      <th></th>\n",
              "      <th>Person</th>\n",
              "      <th>Comment</th>\n",
              "      <th>sentiment_score</th>\n",
              "      <th>sentiment_category</th>\n",
              "    </tr>\n",
              "  </thead>\n",
              "  <tbody>\n",
              "    <tr>\n",
              "      <th>0</th>\n",
              "      <td>Panda</td>\n",
              "      <td>Panda very curious, if our money is protected ...</td>\n",
              "      <td>9.0</td>\n",
              "      <td>positive</td>\n",
              "    </tr>\n",
              "    <tr>\n",
              "      <th>1</th>\n",
              "      <td>chokia</td>\n",
              "      <td>up to 250k only</td>\n",
              "      <td>0.0</td>\n",
              "      <td>neutral</td>\n",
              "    </tr>\n",
              "    <tr>\n",
              "      <th>2</th>\n",
              "      <td>Panda</td>\n",
              "      <td>QUOTE(chokia @ Oct 15 2015, 06:11 PM)up to 250...</td>\n",
              "      <td>0.0</td>\n",
              "      <td>neutral</td>\n",
              "    </tr>\n",
              "    <tr>\n",
              "      <th>3</th>\n",
              "      <td>joe_mamak</td>\n",
              "      <td>Yes.  Protected.  It is like a form of insuran...</td>\n",
              "      <td>4.0</td>\n",
              "      <td>positive</td>\n",
              "    </tr>\n",
              "    <tr>\n",
              "      <th>4</th>\n",
              "      <td>Matrix</td>\n",
              "      <td>Say only, later bankrap, sorry lah.</td>\n",
              "      <td>-1.0</td>\n",
              "      <td>negative</td>\n",
              "    </tr>\n",
              "    <tr>\n",
              "      <th>5</th>\n",
              "      <td>chokia</td>\n",
              "      <td>QUOTE(Panda @ Oct 15 2015, 06:12 PM)250k still...</td>\n",
              "      <td>2.0</td>\n",
              "      <td>positive</td>\n",
              "    </tr>\n",
              "    <tr>\n",
              "      <th>6</th>\n",
              "      <td>Panda</td>\n",
              "      <td>QUOTE(chokia @ Oct 15 2015, 06:13 PM)donationd...</td>\n",
              "      <td>2.0</td>\n",
              "      <td>positive</td>\n",
              "    </tr>\n",
              "    <tr>\n",
              "      <th>7</th>\n",
              "      <td>grinders</td>\n",
              "      <td>QUOTE(Panda @ Oct 15 2015, 06:10 PM)Panda very...</td>\n",
              "      <td>10.0</td>\n",
              "      <td>positive</td>\n",
              "    </tr>\n",
              "    <tr>\n",
              "      <th>8</th>\n",
              "      <td>lorrydriverrocks</td>\n",
              "      <td>PIDM under Perkasa...anything happen u can ref...</td>\n",
              "      <td>0.0</td>\n",
              "      <td>neutral</td>\n",
              "    </tr>\n",
              "    <tr>\n",
              "      <th>9</th>\n",
              "      <td>Panda</td>\n",
              "      <td>QUOTE(grinders @ Oct 15 2015, 06:20 PM)What do...</td>\n",
              "      <td>1.0</td>\n",
              "      <td>positive</td>\n",
              "    </tr>\n",
              "    <tr>\n",
              "      <th>10</th>\n",
              "      <td>grinders</td>\n",
              "      <td>QUOTE(Panda @ Oct 15 2015, 06:26 PM)PIDM offic...</td>\n",
              "      <td>0.0</td>\n",
              "      <td>neutral</td>\n",
              "    </tr>\n",
              "    <tr>\n",
              "      <th>11</th>\n",
              "      <td>Special Agent</td>\n",
              "      <td>Bank Negara</td>\n",
              "      <td>0.0</td>\n",
              "      <td>neutral</td>\n",
              "    </tr>\n",
              "    <tr>\n",
              "      <th>12</th>\n",
              "      <td>Panda</td>\n",
              "      <td>QUOTE(grinders @ Oct 15 2015, 06:27 PM)Thank y...</td>\n",
              "      <td>2.0</td>\n",
              "      <td>positive</td>\n",
              "    </tr>\n",
              "    <tr>\n",
              "      <th>13</th>\n",
              "      <td>grinders</td>\n",
              "      <td>QUOTE(Panda @ Oct 15 2015, 06:29 PM)All the in...</td>\n",
              "      <td>0.0</td>\n",
              "      <td>neutral</td>\n",
              "    </tr>\n",
              "    <tr>\n",
              "      <th>14</th>\n",
              "      <td>patienceGNR</td>\n",
              "      <td>QUOTE(grinders @ Oct 15 2015, 06:30 PM)So no n...</td>\n",
              "      <td>3.0</td>\n",
              "      <td>positive</td>\n",
              "    </tr>\n",
              "    <tr>\n",
              "      <th>15</th>\n",
              "      <td>fuzzy</td>\n",
              "      <td>QUOTE(patienceGNR @ Oct 15 2015, 06:38 PM)Pret...</td>\n",
              "      <td>2.0</td>\n",
              "      <td>positive</td>\n",
              "    </tr>\n",
              "    <tr>\n",
              "      <th>16</th>\n",
              "      <td>ohman</td>\n",
              "      <td>Use your epf</td>\n",
              "      <td>0.0</td>\n",
              "      <td>neutral</td>\n",
              "    </tr>\n",
              "    <tr>\n",
              "      <th>17</th>\n",
              "      <td>neoexcaliber</td>\n",
              "      <td>I keep thinking it's just a marketing tool to ...</td>\n",
              "      <td>-3.0</td>\n",
              "      <td>negative</td>\n",
              "    </tr>\n",
              "    <tr>\n",
              "      <th>18</th>\n",
              "      <td>grinders</td>\n",
              "      <td>QUOTE(patienceGNR @ Oct 15 2015, 06:38 PM)Pret...</td>\n",
              "      <td>10.0</td>\n",
              "      <td>positive</td>\n",
              "    </tr>\n",
              "    <tr>\n",
              "      <th>19</th>\n",
              "      <td>everest</td>\n",
              "      <td>If everyone withdraw money from bank, what wil...</td>\n",
              "      <td>0.0</td>\n",
              "      <td>neutral</td>\n",
              "    </tr>\n",
              "    <tr>\n",
              "      <th>20</th>\n",
              "      <td>hihihehe</td>\n",
              "      <td>QUOTE(everest @ Oct 15 2015, 07:12 PM)If every...</td>\n",
              "      <td>-1.0</td>\n",
              "      <td>negative</td>\n",
              "    </tr>\n",
              "    <tr>\n",
              "      <th>21</th>\n",
              "      <td>kenshin9880</td>\n",
              "      <td>QUOTE(Panda @ Oct 15 2015, 06:16 PM)donation o...</td>\n",
              "      <td>4.0</td>\n",
              "      <td>positive</td>\n",
              "    </tr>\n",
              "    <tr>\n",
              "      <th>22</th>\n",
              "      <td>patienceGNR</td>\n",
              "      <td>QUOTE(grinders @ Oct 15 2015, 07:09 PM) i know...</td>\n",
              "      <td>10.0</td>\n",
              "      <td>positive</td>\n",
              "    </tr>\n",
              "    <tr>\n",
              "      <th>23</th>\n",
              "      <td>gladfly</td>\n",
              "      <td>QUOTE(everest @ Oct 15 2015, 07:12 PM)If every...</td>\n",
              "      <td>-10.0</td>\n",
              "      <td>negative</td>\n",
              "    </tr>\n",
              "  </tbody>\n",
              "</table>\n",
              "</div>"
            ],
            "text/plain": [
              "              Person  ... sentiment_category\n",
              "0              Panda  ...           positive\n",
              "1             chokia  ...            neutral\n",
              "2              Panda  ...            neutral\n",
              "3          joe_mamak  ...           positive\n",
              "4             Matrix  ...           negative\n",
              "5             chokia  ...           positive\n",
              "6              Panda  ...           positive\n",
              "7           grinders  ...           positive\n",
              "8   lorrydriverrocks  ...            neutral\n",
              "9              Panda  ...           positive\n",
              "10          grinders  ...            neutral\n",
              "11     Special Agent  ...            neutral\n",
              "12             Panda  ...           positive\n",
              "13          grinders  ...            neutral\n",
              "14       patienceGNR  ...           positive\n",
              "15             fuzzy  ...           positive\n",
              "16             ohman  ...            neutral\n",
              "17      neoexcaliber  ...           negative\n",
              "18          grinders  ...           positive\n",
              "19           everest  ...            neutral\n",
              "20          hihihehe  ...           negative\n",
              "21       kenshin9880  ...           positive\n",
              "22       patienceGNR  ...           positive\n",
              "23           gladfly  ...           negative\n",
              "\n",
              "[24 rows x 4 columns]"
            ]
          },
          "metadata": {
            "tags": []
          },
          "execution_count": 38
        }
      ]
    },
    {
      "cell_type": "markdown",
      "metadata": {
        "id": "IPSNaOTDFDSW",
        "colab_type": "text"
      },
      "source": [
        "#Compute counts of sentiment category"
      ]
    },
    {
      "cell_type": "code",
      "metadata": {
        "id": "oYXbJ2tOFIeL",
        "colab_type": "code",
        "colab": {
          "base_uri": "https://localhost:8080/",
          "height": 85
        },
        "outputId": "2dc0eb46-55f2-40f5-a734-e4dc5450202d"
      },
      "source": [
        "df_final['sentiment_category']. value_counts()\n"
      ],
      "execution_count": 36,
      "outputs": [
        {
          "output_type": "execute_result",
          "data": {
            "text/plain": [
              "positive    12\n",
              "neutral      8\n",
              "negative     4\n",
              "Name: sentiment_category, dtype: int64"
            ]
          },
          "metadata": {
            "tags": []
          },
          "execution_count": 36
        }
      ]
    },
    {
      "cell_type": "markdown",
      "metadata": {
        "id": "r4g_lnE-F0PP",
        "colab_type": "text"
      },
      "source": [
        "There are more positive comments than negative comments in this thread\n"
      ]
    },
    {
      "cell_type": "code",
      "metadata": {
        "id": "W2J81y7NFsgX",
        "colab_type": "code",
        "colab": {}
      },
      "source": [
        ""
      ],
      "execution_count": 0,
      "outputs": []
    },
    {
      "cell_type": "markdown",
      "metadata": {
        "id": "tLlL7PnTGnCx",
        "colab_type": "text"
      },
      "source": [
        "#Summary statistics of sentiment scores"
      ]
    },
    {
      "cell_type": "code",
      "metadata": {
        "id": "6xEZiZxbGpuY",
        "colab_type": "code",
        "colab": {
          "base_uri": "https://localhost:8080/",
          "height": 170
        },
        "outputId": "7f7457f0-e3b1-47c2-e8f2-aa90fe53c898"
      },
      "source": [
        "df_final['sentiment_score'].describe()"
      ],
      "execution_count": 40,
      "outputs": [
        {
          "output_type": "execute_result",
          "data": {
            "text/plain": [
              "count    24.000000\n",
              "mean      1.833333\n",
              "std       4.517278\n",
              "min     -10.000000\n",
              "25%       0.000000\n",
              "50%       0.500000\n",
              "75%       3.250000\n",
              "max      10.000000\n",
              "Name: sentiment_score, dtype: float64"
            ]
          },
          "metadata": {
            "tags": []
          },
          "execution_count": 40
        }
      ]
    },
    {
      "cell_type": "markdown",
      "metadata": {
        "id": "gf9NS_8QGzyD",
        "colab_type": "text"
      },
      "source": [
        "The average and median sentiment scores are 1.833 and 0.500 respectively."
      ]
    },
    {
      "cell_type": "markdown",
      "metadata": {
        "id": "LTw8uD6OG_Zv",
        "colab_type": "text"
      },
      "source": [
        "#Download file"
      ]
    },
    {
      "cell_type": "code",
      "metadata": {
        "id": "vu1Qb9DZHAmP",
        "colab_type": "code",
        "colab": {}
      },
      "source": [
        "from google.colab import files\n",
        "df_final.to_csv(\"comments_lowyat.csv\")\n",
        "files.download(\"comments_lowyat.csv\")"
      ],
      "execution_count": 0,
      "outputs": []
    },
    {
      "cell_type": "code",
      "metadata": {
        "id": "v0oixEOeHP0o",
        "colab_type": "code",
        "colab": {}
      },
      "source": [
        ""
      ],
      "execution_count": 0,
      "outputs": []
    }
  ]
}